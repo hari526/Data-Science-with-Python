{
 "cells": [
  {
   "cell_type": "markdown",
   "metadata": {},
   "source": [
    "<h3> Basic Statistics </h3>\n",
    "References\n",
    "https://docs.python.org/3/library/statistics.html#statistics.stdev\n",
    "\n",
    "https://docs.scipy.org/doc/numpy-1.13.0/index.html\n",
    "\n",
    "http://www.itl.nist.gov/div898/handbook/eda/section3/eda362.htm\n"
   ]
  },
  {
   "cell_type": "code",
   "execution_count": 1,
   "metadata": {
    "collapsed": true
   },
   "outputs": [],
   "source": [
    "import statistics\n",
    "import math\n",
    "import numpy as np\n",
    "import matplotlib.pyplot as plt"
   ]
  },
  {
   "cell_type": "markdown",
   "metadata": {},
   "source": [
    "<h3> Variance </h3> \n",
    "Variance is a measure of the variability (spread or dispersion) of data. A large variance indicates that the data is spread out; a small variance indicates it is clustered closely around the mean. The variance of $n$ data points with mean $\\mu$ is given by:\n",
    "\n",
    "$$\\sigma^2 = \\frac{\\displaystyle\\sum_{i=1}^{n}(x_i - \\mu)^2} {n-1}$$\n",
    "\n",
    "<h3> Standard Deviation ($\\sigma$) </h3> \n",
    "It is square root of variance.\n"
   ]
  },
  {
   "cell_type": "code",
   "execution_count": 4,
   "metadata": {},
   "outputs": [
    {
     "name": "stdout",
     "output_type": "stream",
     "text": [
      "[28 27 16  8  8 44 10 27  3 34]\n"
     ]
    }
   ],
   "source": [
    "#using numpy\n",
    "X = np.random.randint(50, size=10)\n",
    "#X = np.array([21, 36, 17, 16, 24, 30, 39, 39, 42, 42])\n",
    "print (X)"
   ]
  },
  {
   "cell_type": "code",
   "execution_count": 5,
   "metadata": {},
   "outputs": [
    {
     "name": "stdout",
     "output_type": "stream",
     "text": [
      "mean 20.5\n"
     ]
    }
   ],
   "source": [
    "Xm = np.mean(X)\n",
    "print ('mean',Xm)"
   ]
  },
  {
   "cell_type": "code",
   "execution_count": 6,
   "metadata": {},
   "outputs": [
    {
     "name": "stdout",
     "output_type": "stream",
     "text": [
      "180.5\n"
     ]
    }
   ],
   "source": [
    "var = 0.0\n",
    "for i in range(10):\n",
    "    var = var + (X[i]-Xm)*(X[i]-Xm)\n",
    "var = var/9.0\n",
    "print (var)"
   ]
  },
  {
   "cell_type": "code",
   "execution_count": 7,
   "metadata": {},
   "outputs": [
    {
     "name": "stdout",
     "output_type": "stream",
     "text": [
      "180.5\n"
     ]
    }
   ],
   "source": [
    "print (np.var(X, ddof=1))"
   ]
  },
  {
   "cell_type": "code",
   "execution_count": 8,
   "metadata": {},
   "outputs": [
    {
     "name": "stdout",
     "output_type": "stream",
     "text": [
      "standard deviation 13.4350288425 - 13.4350288425\n"
     ]
    }
   ],
   "source": [
    "print(\"standard deviation\",np.std(X,ddof=1),\"-\", np.sqrt(np.var(X,ddof=1)))"
   ]
  },
  {
   "cell_type": "markdown",
   "metadata": {},
   "source": [
    "### Chebyshev's inequality\n",
    "There are no more than $1/k^2$ of a given distribution that are more than $k$ standard deviations away from the mean.\n"
   ]
  },
  {
   "cell_type": "code",
   "execution_count": 9,
   "metadata": {},
   "outputs": [
    {
     "name": "stdout",
     "output_type": "stream",
     "text": [
      "[84 36 92 68 74 92  6 81  1 72 17 20 58 90 41  3 14 46 95  1]\n"
     ]
    }
   ],
   "source": [
    "X = np.random.randint(100, size=20)\n",
    "print (X)"
   ]
  },
  {
   "cell_type": "code",
   "execution_count": 10,
   "metadata": {},
   "outputs": [
    {
     "data": {
      "text/plain": [
       "49.549999999999997"
      ]
     },
     "execution_count": 10,
     "metadata": {},
     "output_type": "execute_result"
    }
   ],
   "source": [
    "xm = np.mean(X)\n",
    "xm"
   ]
  },
  {
   "cell_type": "code",
   "execution_count": 11,
   "metadata": {},
   "outputs": [
    {
     "data": {
      "text/plain": [
       "1.4142135623730951"
      ]
     },
     "execution_count": 11,
     "metadata": {},
     "output_type": "execute_result"
    }
   ],
   "source": [
    "k = np.sqrt(2)\n",
    "k"
   ]
  },
  {
   "cell_type": "code",
   "execution_count": 12,
   "metadata": {},
   "outputs": [
    {
     "name": "stdout",
     "output_type": "stream",
     "text": [
      "k 1.2\n"
     ]
    }
   ],
   "source": [
    "k = 1.2\n",
    "print('k',k)"
   ]
  },
  {
   "cell_type": "code",
   "execution_count": 13,
   "metadata": {},
   "outputs": [
    {
     "name": "stdout",
     "output_type": "stream",
     "text": [
      "Number of values greater than  1.2 standard deviations away from the mean: [92, 92, 6, 1, 3, 95, 1]\n",
      "Chebyshev's inequality hold for X: 0.35 < 0.6944444444444444\n"
     ]
    }
   ],
   "source": [
    "dist = k*np.std(X,ddof=1) # k standard deviation\n",
    "val_out = [x for x in X if abs(x - xm) >= dist]\n",
    "print ('Number of values greater than ', k, 'standard deviations away from the mean:', val_out)\n",
    "print ('Chebyshev\\'s inequality hold for X:', float(len(val_out))/len(X), '<', 1/k**2)"
   ]
  },
  {
   "cell_type": "markdown",
   "metadata": {},
   "source": [
    "Exercise 1: Another way to look at the Chebyshev's inequality is to state the there are at least $1 - 1/k^2$ distribution values lies within “plus or minus” k standard deviations σ of the mean µ. For a randomly generated data of size 1000 as in the earlier experiment, show that 75% of the randomly generated values lie within “plus or minus” two standard deviations σ of the mean µ. "
   ]
  },
  {
   "cell_type": "code",
   "execution_count": 14,
   "metadata": {},
   "outputs": [
    {
     "name": "stdout",
     "output_type": "stream",
     "text": [
      "Chebyshev's inequality true for greater than 75% of: 0.9997050914983944\n"
     ]
    }
   ],
   "source": [
    "P = np.random.randint(100, size=1000)\n",
    "k=np.std(P,ddof=1)\n",
    "print ('Chebyshev\\'s inequality true for greater than 75% of:', float(1- 1/(k*2)**2))"
   ]
  },
  {
   "cell_type": "markdown",
   "metadata": {},
   "source": [
    "<h3> Covariance </h3>\n",
    "Covariance of two random variables measure how the two variables move together. If they move in the same direction the covariance is positive and if they move in opposite direction the covariance is negative. \n",
    "\n",
    "$cov_{x,y}=\\frac{\\sum_{i=1}^{N}(x_{i}-\\bar{x})(y_{i}-\\bar{y})}{N-1}$"
   ]
  },
  {
   "cell_type": "code",
   "execution_count": 15,
   "metadata": {},
   "outputs": [
    {
     "name": "stdout",
     "output_type": "stream",
     "text": [
      "0.47\n"
     ]
    }
   ],
   "source": [
    "X = np.array([0.1, 0.3, 0.4, 0.8, 0.9])\n",
    "Y = np.array([1.2, 2.4, 2.6, 3.0, 5.5])\n",
    "Xm = np.mean(X)\n",
    "Ym = np.mean(Y)\n",
    "s = 0.0\n",
    "for i in range(5):\n",
    "    s = s+ (X[i]-Xm)*(Y[i]-Ym)\n",
    "cov_xy = s/4.0\n",
    "print (cov_xy)      "
   ]
  },
  {
   "cell_type": "code",
   "execution_count": 16,
   "metadata": {},
   "outputs": [
    {
     "name": "stdout",
     "output_type": "stream",
     "text": [
      "-0.465\n"
     ]
    }
   ],
   "source": [
    "X = np.array([0.1, 0.3, 0.4, 0.8, 0.9])\n",
    "Y = np.array([5.5,  3.0, 2.6,  2.4, 1.2])\n",
    "Xm = np.mean(X)\n",
    "Ym = np.mean(Y)\n",
    "s = 0.0\n",
    "for i in range(5):\n",
    "    s = s+ (X[i]-Xm)*(Y[i]-Ym)\n",
    "cov_xy = s/4.0\n",
    "print (cov_xy)  \n"
   ]
  },
  {
   "cell_type": "markdown",
   "metadata": {},
   "source": [
    "<h3> Covariance Matrix </h3>\n",
    "\n",
    "\\begin{matrix}\n",
    "  cov_{x,x} & cov_{x,y} \\\\\n",
    "  cov_{y,x} & cov_{y,y}\n",
    " \\end{matrix}"
   ]
  },
  {
   "cell_type": "code",
   "execution_count": 17,
   "metadata": {},
   "outputs": [
    {
     "name": "stdout",
     "output_type": "stream",
     "text": [
      "[[0.11500000000000002, -0.46500000000000008], [-0.46500000000000008, 2.4979999999999998]]\n"
     ]
    }
   ],
   "source": [
    "#cov(x,x)\n",
    "cov_xx = np.var(X,ddof=1) # div by N-ddof\n",
    "#cov(y,y)\n",
    "cov_yy = np.var(Y,ddof=1)\n",
    "#cov(y,x) = cov(x,y)\n",
    "cov_yx = cov_xy\n",
    "cov_mat = [[ cov_xx,  cov_xy ],[ cov_yx,   cov_yy]]\n",
    "print (cov_mat)"
   ]
  },
  {
   "cell_type": "code",
   "execution_count": 18,
   "metadata": {},
   "outputs": [
    {
     "name": "stdout",
     "output_type": "stream",
     "text": [
      "2.498\n"
     ]
    }
   ],
   "source": [
    "# using numpy\n",
    "D = np.array([ [0.1, 0.3, 0.4, 0.8, 0.9],\n",
    "               [5.5,  3.0, 2.6,  2.4, 1.2]\n",
    "             ])\n",
    "#print( np.cov(D, ddof=1))\n",
    "#print( np.cov(D))  # default is unbiased\n",
    "print( np.cov(D)[1,1])"
   ]
  },
  {
   "cell_type": "markdown",
   "metadata": {},
   "source": []
  },
  {
   "cell_type": "markdown",
   "metadata": {},
   "source": [
    "<h3> Coorelation </h3>\n",
    "\n",
    "Coorelation is obtained by normalizing covariance by the standard deviation. This is particularly useful when the variables ($x$ and $y$) are on different scales.\n",
    "\n",
    "$\\rho = \\frac{cov_{x,y}}{\\sigma_x \\sigma_y}$"
   ]
  },
  {
   "cell_type": "code",
   "execution_count": 39,
   "metadata": {},
   "outputs": [
    {
     "name": "stdout",
     "output_type": "stream",
     "text": [
      "-0.867576571726\n",
      "1.0 1.0\n",
      "[[0.99999999999999989, -0.86757657172608438], [-0.86757657172608438, 1.0]]\n"
     ]
    }
   ],
   "source": [
    "stdx  = math.sqrt(cov_xx)\n",
    "stdy  = math.sqrt(cov_yy)\n",
    "corr_xy = cov_xy/(stdx*stdy)\n",
    "corr_yx = corr_xy\n",
    "print (corr_xy)\n",
    "corr_xx = cov_xx/(stdx*stdx)\n",
    "corr_yy = cov_yy/(stdy*stdy)\n",
    "print (corr_xx, corr_yy)\n",
    "corr_mat = [[ corr_xx,  corr_xy ],[ corr_yx,   corr_yy]]\n",
    "print (corr_mat)"
   ]
  },
  {
   "cell_type": "code",
   "execution_count": 40,
   "metadata": {},
   "outputs": [
    {
     "name": "stdout",
     "output_type": "stream",
     "text": [
      "[[ 1.         -0.86757657]\n",
      " [-0.86757657  1.        ]]\n"
     ]
    }
   ],
   "source": [
    "# using numpy\n",
    "D = np.array([ [0.1, 0.3, 0.4, 0.8, 0.9],\n",
    "               [5.5,  3.0, 2.6,  2.4, 1.2]\n",
    "             ])\n",
    "print( np.corrcoef(D) )  "
   ]
  },
  {
   "cell_type": "markdown",
   "metadata": {},
   "source": [
    "#### Example Random Data"
   ]
  },
  {
   "cell_type": "code",
   "execution_count": 42,
   "metadata": {
    "collapsed": true
   },
   "outputs": [],
   "source": [
    "plt.scatter?"
   ]
  },
  {
   "cell_type": "code",
   "execution_count": 22,
   "metadata": {},
   "outputs": [
    {
     "name": "stdout",
     "output_type": "stream",
     "text": [
      "Correlation:  0.993725217041\n",
      "Correlation using corrcoeff:  1.0\n"
     ]
    },
    {
     "data": {
      "image/png": "[encoded data removed]",
      "text/plain": [
       "<matplotlib.figure.Figure at 0x1a11fd3fd0>"
      ]
     },
     "metadata": {},
     "output_type": "display_data"
    }
   ],
   "source": [
    "X = np.random.rand(50)\n",
    "Y = np.random.rand(50)\n",
    "\n",
    "plt.scatter(X,Y)\n",
    "plt.xlabel('X Value')\n",
    "plt.ylabel('Y Value')\n",
    "\n",
    "# we use only one off-diagonal entry from the matrix \n",
    "print ('Correlation: ', np.cov(X,Y)[1,1]/(np.std(X)*np.std(Y)) )\n",
    "#  using corrcoef function\n",
    "print ('Correlation using corrcoeff: ', np.corrcoef(X, Y)[1, 1]) \n",
    "plt.show()"
   ]
  },
  {
   "cell_type": "code",
   "execution_count": 34,
   "metadata": {},
   "outputs": [
    {
     "name": "stdout",
     "output_type": "stream",
     "text": [
      "correlation:  0.983665454084\n",
      "Correlation using corrcoeff:  0.963992145002\n"
     ]
    },
    {
     "data": {
      "image/png": "[encoded data removed]",
      "text/plain": [
       "<matplotlib.figure.Figure at 0x1a12575358>"
      ]
     },
     "metadata": {},
     "output_type": "display_data"
    }
   ],
   "source": [
    "# generate correlated data\n",
    "X = np.random.rand(50)\n",
    "Y = X + np.random.normal(0, 0.1, 50)\n",
    "\n",
    "plt.scatter(X,Y)\n",
    "plt.xlabel('X Value')\n",
    "plt.ylabel('Y Value')\n",
    "print(\"correlation: \",np.cov(X,Y)[0,1]/(np.std(X)*np.std(Y)))\n",
    "print ('Correlation using corrcoeff: ', np.corrcoef(X, Y)[0, 1]) \n",
    "plt.show()"
   ]
  },
  {
   "cell_type": "markdown",
   "metadata": {},
   "source": [
    "# less coorelated (add more noise)\n",
    "X = np.random.rand(50)\n",
    "Y = X + np.random.normal(0, .2, 50)\n",
    "\n",
    "plt.scatter(X,Y)\n",
    "plt.xlabel('X Value')\n",
    "plt.ylabel('Y Value')\n",
    "print ('Correlation using corrcoeff: ', np.corrcoef(X, Y)[0, 1]) \n",
    "plt.show()"
   ]
  },
  {
   "cell_type": "code",
   "execution_count": 37,
   "metadata": {},
   "outputs": [
    {
     "name": "stdout",
     "output_type": "stream",
     "text": [
      "Correlation using corrcoeff:  0.925236326278\n"
     ]
    },
    {
     "data": {
      "image/png": "[encoded data removed]",
      "text/plain": [
       "<matplotlib.figure.Figure at 0x1a125402b0>"
      ]
     },
     "metadata": {},
     "output_type": "display_data"
    }
   ],
   "source": [
    "# less coorelated (add more noise)\n",
    "X = np.random.rand(50)\n",
    "Y = X + np.random.normal(0, .12, 50)\n",
    "\n",
    "plt.scatter(X,Y)\n",
    "plt.xlabel('X Value')\n",
    "plt.ylabel('Y Value')\n",
    "print ('Correlation using corrcoeff: ', np.corrcoef(X, Y)[0, 1]) \n",
    "plt.show()"
   ]
  },
  {
   "cell_type": "markdown",
   "metadata": {},
   "source": [
    "Exercise 2 (Take Home): Correlation is heavily used in the finance industry. One use is in building a portfolio with reduced risk. This is typically accomplished by having uncorrelated stocks in the portfolio. Another use is to identify a pair of stocks that are correlated and use it to predict stock price. In this exercise, we will compute correlation coefficient between two stocks. Get daily historical data for last two years years for AAPL and SPY from the yahoo finance site: https://finance.yahoo.com/ (At the yahoo finance site search for a stock symbol and you will see links for historical data). Download the historical finance data for two stocks and save it into two separate  csv files. Write Python code to read the adjusted price of the two stocks from csv files, compute correlation coefficient, and plot a scatter-plot of the returns.\n",
    "\n",
    "Note that a simple return $r_i$ for an asset at time $t_i$ for one unit of time is given by:\n",
    "\\begin{equation*}\n",
    "r_i = \\frac{S_i - S_{i-1}}{S_{i-1}}\n",
    "\\end{equation*}\n",
    "Where $S_{i-1}$ and $S_i$  be the price of a stock at time $t_{i-1}$ and $t_i$ respectively."
   ]
  },
  {
   "cell_type": "code",
   "execution_count": 41,
   "metadata": {
    "scrolled": true
   },
   "outputs": [
    {
     "name": "stdout",
     "output_type": "stream",
     "text": [
      "Correlation using corrcoeff :  0.496755386836\n"
     ]
    },
    {
     "data": {
      "image/png": "[encoded data removed]",
      "text/plain": [
       "<matplotlib.figure.Figure at 0x1a12171898>"
      ]
     },
     "metadata": {},
     "output_type": "display_data"
    }
   ],
   "source": [
    "import csv\n",
    "import statistics\n",
    "import math\n",
    "import numpy as np\n",
    "import matplotlib.pyplot as plt\n",
    "import scipy.stats as stats\n",
    "\n",
    "my_data1 = np.genfromtxt('resources/AAPL.csv', skip_header=1,delimiter=',')\n",
    "Adjprice1 = my_data1[:,5]\n",
    "APPLreturns = (Adjprice1[1:] - Adjprice1[:504])/Adjprice1[:504]\n",
    "\n",
    "my_data2 = np.genfromtxt('resources/SPY.csv', skip_header=1,delimiter=',')\n",
    "#print(np.shape(my_data2))\n",
    "Adjprice2 = my_data2[:,5]\n",
    "SPYreturns = (Adjprice2[1:] - Adjprice2[:504])/Adjprice2[:504]\n",
    "\n",
    "print ('Correlation using corrcoeff : ', np.corrcoef(APPLreturns, SPYreturns)[0, 1])\n",
    "plt.scatter(APPLreturns,SPYreturns)\n",
    "plt.xlabel('APPL  Returns')\n",
    "plt.ylabel('SPY  Returns')\n",
    "plt.show()"
   ]
  },
  {
   "cell_type": "markdown",
   "metadata": {},
   "source": [
    "### Probability Distribution - Normal Distribution\n",
    "A random variable $X \\sim \\mathcal{N}(\\mu,\\,\\sigma^{2})$ is said to be normally distributed with parameter $\\mu$ and $\\sigma^2$ if its density is given by\n",
    "\n",
    "$$f(x) = \\frac{1}{\\sigma \\sqrt{2 \\pi}} e^{-\\frac{(x - \\mu)^2}{2 \\sigma^2}} $$\n",
    "The normal density function is a bell shaped curve that is symmetric about $\\mu$. In practice, many random phenomena have a normal probability distribution.\n"
   ]
  },
  {
   "cell_type": "code",
   "execution_count": 50,
   "metadata": {},
   "outputs": [
    {
     "data": {
      "text/plain": [
       "array([  7.43359757e-07,   7.45220389e-07,   7.47085490e-07, ...,\n",
       "         7.48955072e-07,   7.47085490e-07,   7.45220389e-07])"
      ]
     },
     "execution_count": 50,
     "metadata": {},
     "output_type": "execute_result"
    }
   ],
   "source": [
    "norm.pdf(x_axis,mu,sigma)"
   ]
  },
  {
   "cell_type": "code",
   "execution_count": 49,
   "metadata": {},
   "outputs": [
    {
     "name": "stdout",
     "output_type": "stream",
     "text": [
      "[ -7.5    -7.499  -7.498 ...,  12.497  12.498  12.499]\n"
     ]
    },
    {
     "data": {
      "image/png": "[encoded data removed]",
      "text/plain": [
       "<matplotlib.figure.Figure at 0x107a55828>"
      ]
     },
     "metadata": {},
     "output_type": "display_data"
    }
   ],
   "source": [
    "import numpy as np\n",
    "import matplotlib.pyplot as plt\n",
    "from scipy.stats import norm\n",
    "\n",
    "# Plot between mu-5*sigma and mu+5*sigma with .001 steps.\n",
    "mu = 2.5\n",
    "sigma =2.0\n",
    "x_axis = np.arange(mu-5*sigma, mu+5*sigma, 0.001)\n",
    "print(x_axis)\n",
    "\n",
    "plt.plot(x_axis, norm.pdf(x_axis,mu,sigma))\n",
    "plt.show()"
   ]
  },
  {
   "cell_type": "markdown",
   "metadata": {
    "collapsed": true
   },
   "source": [
    "<h3> Estimate largest catch </h3>\n",
    "\n",
    "<a href='https://youtu.be/eOMZtBacarY?t=1734' > BBC Video </a>\n",
    "\n",
    "\n",
    "Average number of fish a day = 200\n",
    "\n",
    "Total number of fish in 40 year:\n",
    "\n",
    "40 years * 8 weeks during the year = 320\n",
    "\n",
    "320 * 6 days of the week = 1920\n",
    "\n",
    "1920 * 200 = 384,000 fish caught in his whole career.\n",
    "\n",
    "\n",
    "Average weight of a fish on the observation day = 220 g\n",
    "Standard Deviation based on the observation day =  238 g\n"
   ]
  },
  {
   "cell_type": "code",
   "execution_count": 53,
   "metadata": {},
   "outputs": [
    {
     "data": {
      "image/png": "[encoded data removed]",
      "text/plain": [
       "<matplotlib.figure.Figure at 0x1a125163c8>"
      ]
     },
     "metadata": {},
     "output_type": "display_data"
    }
   ],
   "source": [
    "# Plot between mu-5*sigma and mu+5*sigma with .001 steps.\n",
    "mu = 220\n",
    "sigma =285\n",
    "x_axis = np.arange(mu-5*sigma, mu+5*sigma, 0.001)\n",
    "\n",
    "plt.plot(x_axis, norm.pdf(x_axis,mu,sigma))\n",
    "plt.xlabel('X axis')\n",
    "plt.ylabel('Normalized value')\n",
    "plt.show()"
   ]
  },
  {
   "cell_type": "code",
   "execution_count": 52,
   "metadata": {},
   "outputs": [
    {
     "name": "stdout",
     "output_type": "stream",
     "text": [
      "1.09132907038\n"
     ]
    },
    {
     "data": {
      "text/plain": [
       "1304.3794508860069"
      ]
     },
     "execution_count": 52,
     "metadata": {},
     "output_type": "execute_result"
    }
   ],
   "source": [
    "from scipy.stats import norm\n",
    "prl = norm(220, 238).cdf(1300) # P(W <= 1300)\n",
    "prg = 1 - prl # P(W > 1300)\n",
    "print (prg*384000)\n",
    "# given probability you can use the inverse function\n",
    "pr = 1.0 - 1.0/384000\n",
    "norm.ppf(pr, loc=220, scale=238)"
   ]
  },
  {
   "cell_type": "code",
   "execution_count": 54,
   "metadata": {},
   "outputs": [
    {
     "name": "stdout",
     "output_type": "stream",
     "text": [
      "1.09132907038\n"
     ]
    }
   ],
   "source": [
    "prl = norm(220, 238).cdf(1300) # P(W <= 1300)\n",
    "prg = 1 - prl # P(W > 1300)\n",
    "print (prg*384000)"
   ]
  },
  {
   "cell_type": "markdown",
   "metadata": {},
   "source": [
    "Exercise 3: Generate 1000 samples from a normal distribution using numpy (see np.random.normal()) with mu = 2 and sigma = 1.0. Plot the histogram along with the normal pdf plot to show the fit along with each plot. "
   ]
  },
  {
   "cell_type": "code",
   "execution_count": 75,
   "metadata": {
    "collapsed": true
   },
   "outputs": [],
   "source": [
    "plt.hist?"
   ]
  },
  {
   "cell_type": "code",
   "execution_count": 55,
   "metadata": {},
   "outputs": [
    {
     "data": {
      "image/png": "[encoded data removed]",
      "text/plain": [
       "<matplotlib.figure.Figure at 0x1a1257f0f0>"
      ]
     },
     "metadata": {},
     "output_type": "display_data"
    }
   ],
   "source": [
    "import numpy as np\n",
    "import matplotlib.pyplot as plt\n",
    "from scipy.stats import norm\n",
    "\n",
    "\n",
    "mu,sigma=2,1.0\n",
    "\n",
    "data=np.random.normal(mu, sigma, 1000)\n",
    "\n",
    "plt.hist(data,bins=25, normed=True, alpha =0.9, color='b')\n",
    "\n",
    "xmin,xmax=plt.xlim()\n",
    "x=np.linspace(xmin,xmax,100)\n",
    "p=norm.pdf(x,mu,sigma)\n",
    "\n",
    "plt.plot(x,p,'k',linewidth=2)\n",
    "title = \"Fit results: mu = %.2f, sigma=%.2f\" % (mu,sigma)\n",
    "plt.title(title)\n",
    "\n",
    "plt.show()"
   ]
  },
  {
   "attachments": {
    "image.png": {
     "image/png": "[encoded data removed]"
    }
   },
   "cell_type": "markdown",
   "metadata": {},
   "source": [
    "Skewed Distribution: A distribution is skewed if one of its tails is longer than the other. A negatively skewed distribution is one when tail on the negative distribution is longer. On the other hand a positively skewed distribution is when the tail on the positive direction is longer. \n",
    "\n",
    "![image.png](attachment:image.png)\n",
    "\n"
   ]
  },
  {
   "cell_type": "code",
   "execution_count": null,
   "metadata": {
    "collapsed": true
   },
   "outputs": [],
   "source": []
  },
  {
   "attachments": {
    "image.png": {
     "image/png": "[encoded data removed]"
    }
   },
   "cell_type": "markdown",
   "metadata": {},
   "source": [
    "Most asset return distributions are skewed.\n",
    "\n",
    "![image.png](attachment:image.png)"
   ]
  },
  {
   "cell_type": "code",
   "execution_count": 79,
   "metadata": {
    "collapsed": true
   },
   "outputs": [],
   "source": [
    "import scipy.stats as stats"
   ]
  },
  {
   "cell_type": "code",
   "execution_count": 80,
   "metadata": {
    "collapsed": true
   },
   "outputs": [],
   "source": [
    "my_data = np.genfromtxt('resources/GSPC.csv', skip_header=1,delimiter=',')"
   ]
  },
  {
   "cell_type": "code",
   "execution_count": 81,
   "metadata": {},
   "outputs": [
    {
     "data": {
      "text/plain": [
       "(1260, 7)"
      ]
     },
     "execution_count": 81,
     "metadata": {},
     "output_type": "execute_result"
    }
   ],
   "source": [
    "np.shape(my_data)"
   ]
  },
  {
   "cell_type": "code",
   "execution_count": 82,
   "metadata": {
    "collapsed": true
   },
   "outputs": [],
   "source": [
    "price = my_data[:,5]"
   ]
  },
  {
   "cell_type": "code",
   "execution_count": 84,
   "metadata": {},
   "outputs": [
    {
     "data": {
      "text/plain": [
       "array([ 1461.890015,  1457.150024,  1461.02002 , ...,  2713.060059,\n",
       "        2723.98999 ,  2743.149902])"
      ]
     },
     "execution_count": 84,
     "metadata": {},
     "output_type": "execute_result"
    }
   ],
   "source": [
    "price"
   ]
  },
  {
   "cell_type": "code",
   "execution_count": 85,
   "metadata": {
    "collapsed": true
   },
   "outputs": [],
   "source": [
    "returns = (price[1:] - price[:1259])/price[:1259]"
   ]
  },
  {
   "cell_type": "code",
   "execution_count": 86,
   "metadata": {},
   "outputs": [
    {
     "data": {
      "text/plain": [
       "(1259,)"
      ]
     },
     "execution_count": 86,
     "metadata": {},
     "output_type": "execute_result"
    }
   ],
   "source": [
    "np.shape(returns)"
   ]
  },
  {
   "cell_type": "code",
   "execution_count": 16,
   "metadata": {},
   "outputs": [
    {
     "name": "stdout",
     "output_type": "stream",
     "text": [
      "Skew: -0.38831219986319604\n",
      "Mean: 0.000527928436527\n",
      "Median: 0.0005452557699\n"
     ]
    }
   ],
   "source": [
    "print ('Skew:', stats.skew(returns))\n",
    "print ('Mean:', np.mean(returns))\n",
    "print ('Median:', np.median(returns))\n",
    "\n",
    "plt.hist(returns, 30);"
   ]
  },
  {
   "cell_type": "code",
   "execution_count": 17,
   "metadata": {},
   "outputs": [
    {
     "data": {
      "image/png": "[encoded data removed]",
      "text/plain": [
       "<matplotlib.figure.Figure at 0x10f9a9e80>"
      ]
     },
     "metadata": {},
     "output_type": "display_data"
    }
   ],
   "source": [
    "plt.show()"
   ]
  },
  {
   "cell_type": "code",
   "execution_count": 87,
   "metadata": {
    "collapsed": true
   },
   "outputs": [],
   "source": [
    "# jarque bera test whether sample data have the skewness and kurtosis matching a normal distribution\n",
    "# Samples from a normal distribution have an expected skewness of 0 and an expected excess kurtosis of 0\n",
    "_, pvalue = stats.jarque_bera(returns)  # testing normality"
   ]
  },
  {
   "cell_type": "code",
   "execution_count": 88,
   "metadata": {},
   "outputs": [
    {
     "data": {
      "text/plain": [
       "0.0"
      ]
     },
     "execution_count": 88,
     "metadata": {},
     "output_type": "execute_result"
    }
   ],
   "source": [
    "pvalue  # typical pvalue > 0.05 indicates likely normal, works  for number of samples > 2000"
   ]
  },
  {
   "cell_type": "code",
   "execution_count": 93,
   "metadata": {
    "collapsed": true
   },
   "outputs": [],
   "source": [
    "# another normality test\n",
    "_,pvalue = stats.kstest(returns, 'norm')"
   ]
  },
  {
   "cell_type": "code",
   "execution_count": 94,
   "metadata": {},
   "outputs": [
    {
     "data": {
      "text/plain": [
       "0.0"
      ]
     },
     "execution_count": 94,
     "metadata": {},
     "output_type": "execute_result"
    }
   ],
   "source": [
    "pvalue"
   ]
  },
  {
   "cell_type": "code",
   "execution_count": 98,
   "metadata": {},
   "outputs": [
    {
     "name": "stdout",
     "output_type": "stream",
     "text": [
      "0.562803441334\n"
     ]
    }
   ],
   "source": [
    "x = np.random.normal(0, 1, 10000)\n",
    "_, pvalue = stats.jarque_bera(x)\n",
    "print(pvalue) # > 0.05 most likely normal"
   ]
  },
  {
   "cell_type": "code",
   "execution_count": 97,
   "metadata": {},
   "outputs": [
    {
     "name": "stdout",
     "output_type": "stream",
     "text": [
      "0.0369723251082\n"
     ]
    }
   ],
   "source": [
    "# another normality test\n",
    "_, pvalue = stats.kstest(x, 'norm')\n",
    "print(pvalue) # > 0.05 most likely normal"
   ]
  },
  {
   "cell_type": "code",
   "execution_count": null,
   "metadata": {
    "collapsed": true
   },
   "outputs": [],
   "source": [
    "print ('Skew:', stats.skew(x))\n",
    "print ('Kurtosis:', stats.kurtosis(x))\n",
    "print ('Mean:', np.mean(x))\n",
    "print ('Median:', np.median(x))\n"
   ]
  },
  {
   "cell_type": "markdown",
   "metadata": {},
   "source": [
    "Exercise 4 (Take Home): Get daily historical data for last five years for your favourite stock from the yahoo finance site. Repeat the above process for computing returns using the adjusted closing price, plot histogram, and perform Jarque-Bera test for normality. Note that the test here is on a smaller number of samples (< 2000), so it is approximate. Also, perform the KS-test."
   ]
  },
  {
   "cell_type": "code",
   "execution_count": 101,
   "metadata": {},
   "outputs": [
    {
     "name": "stdout",
     "output_type": "stream",
     "text": [
      "1260\n"
     ]
    },
    {
     "data": {
      "image/png": "[encoded data removed]",
      "text/plain": [
       "<matplotlib.figure.Figure at 0x1a1b094358>"
      ]
     },
     "metadata": {},
     "output_type": "display_data"
    },
    {
     "name": "stdout",
     "output_type": "stream",
     "text": [
      "0.0\n",
      "0.0\n"
     ]
    }
   ],
   "source": [
    "import scipy.stats as stats\n",
    "my_data = np.genfromtxt('resources/MSFT.csv', skip_header=1,delimiter=',')\n",
    "np.shape(my_data)\n",
    "Adjprice = my_data[:,5]\n",
    "print(len(Adjprice))\n",
    "MSFTreturns = (Adjprice[1:] - Adjprice[:1259])/Adjprice[:1259]\n",
    "plt.hist(MSFTreturns, 30)\n",
    "plt.show()\n",
    "\n",
    "_, pvalue = stats.jarque_bera(MSFTreturns)\n",
    "print(pvalue)\n",
    "\n",
    "_, pvalue = stats.kstest(MSFTreturns, 'norm')\n",
    "print(pvalue)"
   ]
  },
  {
   "cell_type": "markdown",
   "metadata": {},
   "source": [
    "Exercise 5 (Take Home): Perform the Jarque-Bera and KS-test on the data1999 and data2012  from 'Introduction to Numpy -II' notebook."
   ]
  },
  {
   "cell_type": "code",
   "execution_count": 117,
   "metadata": {},
   "outputs": [
    {
     "data": {
      "image/png": "[encoded data removed]",
      "text/plain": [
       "<matplotlib.figure.Figure at 0x1a1a42a7f0>"
      ]
     },
     "metadata": {},
     "output_type": "display_data"
    },
    {
     "name": "stdout",
     "output_type": "stream",
     "text": [
      "0.0\n",
      "0.0\n",
      "0.0\n",
      "0.0\n"
     ]
    }
   ],
   "source": [
    "ctrl_rate_data = np.genfromtxt('US_County_Diabetes_Control_Rate_1999_2012_full.csv', skip_header=1, delimiter=',')\n",
    "np.shape(ctrl_rate_data)\n",
    "data1999=ctrl_rate_data[:,2]\n",
    "returns1999 = (data1999[1:] - data1999[:3192])/data1999[:3192]\n",
    "\n",
    "data2012=ctrl_rate_data[:,41]\n",
    "returns2012 = (data2012[1:] - data2012[:3192])/data2012[:3192]\n",
    "#print(len(data1999))\n",
    "#print(len(return2012))\n",
    "\n",
    "plt.hist(returns1999, 30,alpha=0.9)\n",
    "plt.hist(returns2012, 30,alpha=0.6)\n",
    "plt.xlabel('X Value')\n",
    "plt.ylabel('Y Value')\n",
    "plt.show()\n",
    "\n",
    "_, pvalue = stats.jarque_bera(returns1999)\n",
    "print(\"jarque_bera\",pvalue)\n",
    "\n",
    "_, pvalue = stats.kstest(returns1999, 'norm')\n",
    "print(\"kstest\",pvalue)\n",
    "\n",
    "\n",
    "_, pvalue = stats.jarque_bera(returns2012)\n",
    "print(\"jarque_bera\",pvalue)\n",
    "\n",
    "_, pvalue = stats.kstest(returns2012, 'norm')\n",
    "print(\"kstest\",pvalue)\n"
   ]
  },
  {
   "cell_type": "code",
   "execution_count": null,
   "metadata": {
    "collapsed": true
   },
   "outputs": [],
   "source": []
  }
 ],
 "metadata": {
  "kernelspec": {
   "display_name": "Python 2",
   "language": "python",
   "name": "python2"
  },
  "language_info": {
   "codemirror_mode": {
    "name": "ipython",
    "version": 2
   },
   "file_extension": ".py",
   "mimetype": "text/x-python",
   "name": "python",
   "nbconvert_exporter": "python",
   "pygments_lexer": "ipython2",
   "version": "2.7.15"
  }
 },
 "nbformat": 4,
 "nbformat_minor": 2
}
