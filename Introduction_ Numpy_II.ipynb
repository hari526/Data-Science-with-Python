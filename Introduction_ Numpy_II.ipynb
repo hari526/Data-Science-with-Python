{
 "cells": [
  {
   "cell_type": "markdown",
   "metadata": {},
   "source": [
    "<h3> Introduction to Numpy </h3>\n",
    "In this section we will learn about numpy package that helps in working with arrays.\n",
    "<h3> References </h3>\n",
    "Python for Data Analysis, 2nd Edition <br>\n",
    "<a href=\"https://docs.scipy.org/doc/numpy-dev/user/quickstart.html\"> Numpy Tutorial </a><br>\n"
   ]
  },
  {
   "cell_type": "code",
   "execution_count": null,
   "metadata": {
    "collapsed": true
   },
   "outputs": [],
   "source": []
  },
  {
   "cell_type": "markdown",
   "metadata": {
    "collapsed": true
   },
   "source": [
    "#### Histograms"
   ]
  },
  {
   "cell_type": "code",
   "execution_count": 1,
   "metadata": {
    "collapsed": true
   },
   "outputs": [],
   "source": [
    "import numpy as np\n",
    "import matplotlib.pyplot as plt"
   ]
  },
  {
   "cell_type": "markdown",
   "metadata": {},
   "source": [
    "### What is historgram?"
   ]
  },
  {
   "cell_type": "code",
   "execution_count": 2,
   "metadata": {
    "collapsed": true
   },
   "outputs": [],
   "source": [
    "sa = np.array( [1, 2, 3, 4, 5,6] )\n",
    "data = [ np.random.choice(sa) for _ in range(1000) ]\n",
    "#print (data)"
   ]
  },
  {
   "cell_type": "code",
   "execution_count": 3,
   "metadata": {
    "collapsed": true
   },
   "outputs": [],
   "source": [
    "# hist[i] number of samples in bins[i]\n",
    "# number of samples in bin 0 is  defined by binedges[0]<= values of v < bins_edges[1]\n",
    "binedges = np.array( [1, 2, 3, 4, 5, 6,7] )\n",
    "hist, _ = np.histogram(data, bins=binedges)"
   ]
  },
  {
   "cell_type": "code",
   "execution_count": 4,
   "metadata": {},
   "outputs": [
    {
     "name": "stdout",
     "output_type": "stream",
     "text": [
      "[148 166 160 183 186 157]\n"
     ]
    }
   ],
   "source": [
    "print(hist)"
   ]
  },
  {
   "cell_type": "code",
   "execution_count": 5,
   "metadata": {},
   "outputs": [
    {
     "data": {
      "image/png": "[encoded data removed]",
      "text/plain": [
       "<matplotlib.figure.Figure at 0x105e36b70>"
      ]
     },
     "metadata": {},
     "output_type": "display_data"
    }
   ],
   "source": [
    "plt.hist(data,normed=True, bins=binedges)\n",
    "plt.show()"
   ]
  },
  {
   "cell_type": "code",
   "execution_count": 6,
   "metadata": {},
   "outputs": [
    {
     "data": {
      "text/plain": [
       "183"
      ]
     },
     "execution_count": 6,
     "metadata": {},
     "output_type": "execute_result"
    }
   ],
   "source": [
    "data.count(4)"
   ]
  },
  {
   "cell_type": "code",
   "execution_count": 7,
   "metadata": {
    "collapsed": true
   },
   "outputs": [],
   "source": [
    "hist, _ = np.histogram(data, bins=binedges, density=True)"
   ]
  },
  {
   "cell_type": "code",
   "execution_count": 8,
   "metadata": {},
   "outputs": [
    {
     "data": {
      "text/plain": [
       "array([ 0.148,  0.166,  0.16 ,  0.183,  0.186,  0.157])"
      ]
     },
     "execution_count": 8,
     "metadata": {},
     "output_type": "execute_result"
    }
   ],
   "source": [
    "hist #probability density value at the bin"
   ]
  },
  {
   "cell_type": "markdown",
   "metadata": {},
   "source": [
    "density : bool, optional\n",
    "\n",
    "If False, the result will contain the number of samples in each bin. If True, the result is the value of the probability density function at the bin, normalized such that the integral over the range is 1. Note that the sum of the histogram values will not be equal to 1 unless bins of unity width are chosen; it is not a probability mass function."
   ]
  },
  {
   "cell_type": "code",
   "execution_count": 9,
   "metadata": {},
   "outputs": [
    {
     "data": {
      "text/plain": [
       "array([1, 1, 1, 1, 1, 1])"
      ]
     },
     "execution_count": 9,
     "metadata": {},
     "output_type": "execute_result"
    }
   ],
   "source": [
    "w = np.diff(binedges)\n",
    "w"
   ]
  },
  {
   "cell_type": "code",
   "execution_count": 10,
   "metadata": {},
   "outputs": [
    {
     "data": {
      "text/plain": [
       "1.0"
      ]
     },
     "execution_count": 10,
     "metadata": {},
     "output_type": "execute_result"
    }
   ],
   "source": [
    "isum = w * hist\n",
    "np.sum(isum)"
   ]
  },
  {
   "cell_type": "markdown",
   "metadata": {},
   "source": [
    "Exercise 1: Create 1000 random integer data in the range 0 to 9 with uniform distribution using numpy function np.random.randint(). Create a histogram using pre-specified binedges = [0, 2, 4, 6, 8, 10]. Plot the historgram. \n",
    "For density = True option in the numpy funtion historgram() show that the histogram values in the bins are normalzied so that the integral over the range is 1. "
   ]
  },
  {
   "cell_type": "code",
   "execution_count": 11,
   "metadata": {},
   "outputs": [
    {
     "data": {
      "image/png": "[encoded data removed]",
      "text/plain": [
       "<matplotlib.figure.Figure at 0x10b0f7828>"
      ]
     },
     "metadata": {},
     "output_type": "display_data"
    }
   ],
   "source": [
    "data =  [np.random.randint(1, 9) for _ in range(1000) ]\n",
    "binedges1 = np.array( [0, 2, 4, 6, 8 ,10] )\n",
    "hist, _ = np.histogram(data, bins=binedges1,density=True)\n",
    "#print(hist)\n",
    "plt.hist(data,normed=True, bins=binedges)\n",
    "#plt.hist(data, bins=binedges1)\n",
    "plt.show()"
   ]
  },
  {
   "cell_type": "code",
   "execution_count": 12,
   "metadata": {},
   "outputs": [
    {
     "data": {
      "text/plain": [
       "array([ 0.0685,  0.1205,  0.129 ,  0.121 ,  0.061 ])"
      ]
     },
     "execution_count": 12,
     "metadata": {},
     "output_type": "execute_result"
    }
   ],
   "source": [
    "hist"
   ]
  },
  {
   "cell_type": "code",
   "execution_count": 13,
   "metadata": {},
   "outputs": [
    {
     "data": {
      "text/plain": [
       "array([ 0,  2,  4,  6,  8, 10])"
      ]
     },
     "execution_count": 13,
     "metadata": {},
     "output_type": "execute_result"
    }
   ],
   "source": [
    "binedges1"
   ]
  },
  {
   "cell_type": "code",
   "execution_count": 14,
   "metadata": {},
   "outputs": [
    {
     "data": {
      "text/plain": [
       "array([2, 2, 2, 2, 2])"
      ]
     },
     "execution_count": 14,
     "metadata": {},
     "output_type": "execute_result"
    }
   ],
   "source": [
    "q = np.diff(binedges1)\n",
    "q"
   ]
  },
  {
   "cell_type": "code",
   "execution_count": 15,
   "metadata": {},
   "outputs": [
    {
     "data": {
      "text/plain": [
       "1.0"
      ]
     },
     "execution_count": 15,
     "metadata": {},
     "output_type": "execute_result"
    }
   ],
   "source": [
    "issum = q * hist\n",
    "np.sum(issum)"
   ]
  },
  {
   "cell_type": "code",
   "execution_count": 43,
   "metadata": {
    "collapsed": true
   },
   "outputs": [],
   "source": [
    "np.random.RandomState? #RandomState` exposes a number of methods for generating random numbers\n",
    "#drawn from a variety of probability distributions"
   ]
  },
  {
   "cell_type": "code",
   "execution_count": 16,
   "metadata": {},
   "outputs": [
    {
     "data": {
      "text/plain": [
       "122"
      ]
     },
     "execution_count": 16,
     "metadata": {},
     "output_type": "execute_result"
    }
   ],
   "source": [
    "data.count(8)"
   ]
  },
  {
   "cell_type": "code",
   "execution_count": 17,
   "metadata": {},
   "outputs": [
    {
     "name": "stdout",
     "output_type": "stream",
     "text": [
      "Object `rng.normal` not found.\n"
     ]
    }
   ],
   "source": [
    "rng.normal?"
   ]
  },
  {
   "cell_type": "code",
   "execution_count": 18,
   "metadata": {},
   "outputs": [
    {
     "name": "stdout",
     "output_type": "stream",
     "text": [
      "<mtrand.RandomState object at 0x10b14fc18>\n",
      "[ 2.66579325  2.35763949  1.22729985  1.99580808  2.31066799  1.63995722\n",
      "  2.13275579  2.05427426  2.00214572  1.91269989  2.21651309  2.60151869\n",
      "  1.51746716  2.51413704  2.11431507  2.22256881  1.43169889  2.06756844\n",
      "  2.7422685   1.46009756  1.01113586  1.12831385  2.13303508  3.19248367\n",
      "  2.56184563  2.83631111  2.04957461  2.69899819  1.86437601  2.30660209\n",
      "  1.86634141  1.72534549  2.06635415  1.76192899  2.65423654  2.09750664\n",
      "  2.20010499  1.83118383  2.62823613  1.63401525  2.33011578  1.82456405\n",
      "  1.53028332  1.75533139  1.59770443  1.89365118  1.83042988  2.15608497\n",
      "  2.28257633  1.92628987  1.98704733  2.1445471   1.73006046  2.35408001\n",
      "  2.42111237  2.1017904   3.19735183  2.45872947  1.94386376  1.81890978\n",
      "  1.88390887  1.74913555  2.56439258  1.65109498  1.95943891  1.73535196\n",
      "  2.52309143  1.29072199  1.81875041  1.93904715  2.15967821  2.23045145\n",
      "  1.89210505  2.49453623  2.15737689  3.23382553  1.24583926  2.31030033\n",
      "  1.47743373  1.60099559  2.9925423   2.87240707  1.07190726  1.88861315\n",
      "  1.96707608  0.93414395  1.97558474  2.19667061  2.10863257  1.00280312\n",
      "  2.55385412  2.12227199  1.96904399  1.62305352  2.35597951  2.45913458\n",
      "  1.75895343  2.04479381  2.41349931  1.02274394  2.05873783  1.04627156\n",
      "  1.53854537  2.23487572  1.92781662  1.79993082  1.85200807  2.4241043\n",
      "  2.35341523  1.60636554  2.14647036  1.76459637  3.2021628   1.63032163\n",
      "  1.84358562  1.82555904  1.78048688  2.07055208  2.13652466  1.19071463\n",
      "  1.71344332  1.33977623  2.61810266  3.23266254  2.69161611  2.17311656\n",
      "  2.51125805  2.08340513  2.82835831  2.3339448   1.88502668  1.4352244\n",
      "  1.6800187   2.15691526  1.38708201  1.88910343  2.66996315  2.01465486\n",
      "  2.99269287  2.7235828   1.85618529  1.32034471  1.97597934  1.75960633\n",
      "  2.18887654  2.80720399  1.43844798  1.80563603  2.16617497  2.56748659\n",
      "  2.25535721  2.20714882  2.67227471  2.24675766  1.88149791  2.02864258\n",
      "  1.64646428  2.27333242  2.4712502   0.51020161  2.60907443  1.97173964\n",
      "  2.23044423  2.33118701  0.85244834  1.40203534  1.83344942  1.60430461\n",
      "  2.13708639  1.74254504  1.1444644   2.30614866  2.55006469  2.28217626\n",
      "  1.64360028  1.86957026  2.27421403  2.30159953  2.50343057  1.852787\n",
      "  1.28955974  1.66052661  2.2669424   2.3719872   3.11252482  2.05859071\n",
      "  2.12230726  1.91135059  1.79713524  2.3908876   2.17673881  1.89636026\n",
      "  1.46015131  1.93846509  1.80450891  2.62758687  2.47356304  1.48884465\n",
      "  2.58358418  1.71401159  2.06656875  2.60137194  1.48762352  2.08019958\n",
      "  1.43476236  1.02935016  2.49329891  2.01411368  1.5888162   1.20672412\n",
      "  1.79926359  2.67108964  2.20123455  1.81361929  1.66398828  2.05290604\n",
      "  1.2263473   2.67240326  2.25159459  2.5971753   1.71824716  2.42741438\n",
      "  2.34395236  1.23346564  2.07448035  2.15755558  1.71254117  1.81991443\n",
      "  2.21809265  1.98104106  1.49764182  2.29572654  2.11390868  2.12458933\n",
      "  2.04788162  2.22451087  1.856999    1.56862085  1.62908758  2.55278757\n",
      "  0.99114067  2.27027036  1.27885056  1.19557482  1.49671572  1.87123319\n",
      "  2.36525372  1.15079925  2.83703777  2.58186185  1.9337132   1.8548771\n",
      "  1.52323379  2.2940203   2.03440074  2.70603215  1.65689219  2.27397196\n",
      "  1.98180873  1.57649187  2.95115202  2.1398027   2.31012725  1.46571615\n",
      "  1.63868963  2.04206978  1.70777242  2.30101114  2.21918262  1.6088284\n",
      "  2.09646799  2.00201246  1.91796235  1.42559387  1.58224575  2.10522536\n",
      "  2.50699232  1.51490109  2.60859078  2.09132369  1.3650902   2.16169496\n",
      "  2.44288743  2.13219735  3.15956366  2.15433384  2.44628202  2.00551135\n",
      "  2.49003706  0.80221399  1.57123874  1.81786096  2.25196345  2.09416561\n",
      "  2.54261354  2.17846953  2.10366478  1.92746773  2.08195213  2.41475624\n",
      "  2.37764998  2.43974285  1.88002185  1.65247168  1.76429996  2.1747382\n",
      "  2.80572865  2.11966963  2.24250131  1.17069765  3.33995515  1.44823893\n",
      "  2.9088913   1.72197633  2.47885562  2.40761034  2.0321597   1.91679731\n",
      "  1.52964511  1.97320275  2.5505681   2.18606127  1.55826951  2.57902579\n",
      "  1.39817325  2.10491957  1.55440654  1.60865613  2.53986534  1.76857956\n",
      "  1.24246216  1.73064073  2.37831093  1.63530039  2.60739133  2.50414148\n",
      "  2.0366415   2.58686621  2.93147583  1.00818175  2.57834447  2.30464113\n",
      "  1.83839938  2.3320728   2.198363    1.71194157  2.7441092   2.07012343\n",
      "  2.59415838  1.87712731  1.18220669  2.12239904  1.88245889  1.3695861\n",
      "  1.15401604  2.30822546  2.63484564  2.69866899  2.26711248  2.00205102\n",
      "  2.09470992  2.02238734  2.39734264  1.75342963  1.36920513  1.89036987\n",
      "  2.09863611  1.87235977  2.0129038   3.10048322  2.4421838   1.30658873\n",
      "  2.32683116  0.91169568  2.30947446  2.23861715  2.01304826  1.51514716\n",
      "  1.50813594  2.20626636  1.69284758  2.41854089  1.6881905   1.8184069\n",
      "  2.37973567  1.9830365   1.91679965  2.13478621  2.18765278  1.95804238\n",
      "  2.11306317  1.94205963  2.20580121  2.14390522  2.25213574  2.40213368\n",
      "  1.48469589  1.32115122  1.86674907  1.9143536   2.23119278  1.39007223\n",
      "  2.09628642  2.21772519  1.18252793  2.21746864  2.69890969  2.06233339\n",
      "  1.5542743   1.71155333  1.96252557  1.73911178  0.39779933  2.7313555\n",
      "  1.76654869  1.91049015  2.46237382  2.11762238  1.75569587  1.95350923\n",
      "  2.26770069  2.27542235  1.90423897  2.39734881  2.39254825  1.75613779\n",
      "  1.49706757  2.16378768  2.28952423  1.77003723  1.78209204  2.26813428\n",
      "  2.07850749  2.67939457  2.25767262  3.19206231  2.26459513  1.55192808\n",
      "  1.90109494  1.95226208  1.15977704  2.3383541   2.03036391  1.98847941\n",
      "  1.72334079  1.44693838  1.89143255  1.56228881  2.00539071  1.54687659\n",
      "  1.29212339  2.04735416  2.09690031  2.27161754  2.02816789  2.7328275\n",
      "  1.68201539  2.55475261  1.50368376  1.65882926  1.7953654   1.87626236\n",
      "  2.76392556  1.67528081  1.36549224  2.37743804  1.98804578  1.22122876\n",
      "  2.17317579  2.47118225  1.80726159  2.78010439  2.77258088  1.65415617\n",
      "  2.43225924  0.95110406  2.08514735  1.62108517  2.48390521  1.56273748\n",
      "  2.5139202   1.59855519  1.7858483   1.62229208  2.11024845  1.31344291\n",
      "  2.32337917  1.66324909  3.12093325  1.87675644  1.61819783  2.24039437\n",
      "  1.5841004   2.29659462  1.77561043  2.24384797  2.02815736  2.27289223\n",
      "  1.6584388   1.67049135  2.71962686  2.69107331  2.46066022  1.71355639\n",
      "  2.63752455  1.83558398  1.9268296   2.52921832  1.94445978  1.98055943\n",
      "  1.83881825  1.66711713  1.64769     1.82311863  2.07596371  1.84789991\n",
      "  1.41057282  1.92543365  1.88745157  2.03507719  2.22603361  2.14703463\n",
      "  1.58624499  1.58576439  1.75374627  1.62418978  1.20580959  1.76563464\n",
      "  1.28444077  1.36825157  1.37987568  1.47344201  1.43390113  1.54452697\n",
      "  1.86988006  2.40732726  1.32632926  2.52976416  2.26227037  2.26674451\n",
      "  1.87322099  2.09606115  2.2814609   2.31372548  1.83002569  2.36858949\n",
      "  2.60145146  2.48527976  2.35193936  1.69750614  2.00235527  2.07351697\n",
      "  1.76873044  2.10927942  2.0843768   1.97500141  1.92504693  1.98233597\n",
      "  2.01680827  1.816712    1.78789429  1.97457517  1.4381229   1.07132092\n",
      "  1.89173753  1.41039775  2.82238057  2.3617146   2.62407465  2.36636289\n",
      "  1.83948863  2.25044748  2.25997116  1.31106209  2.39235532  1.55184617\n",
      "  1.41083103  2.3705937   1.71357533  1.51949733  2.593959    1.1169175\n",
      "  1.61479417  2.56212096  3.33584254  2.03222275  2.45674216  1.50149689\n",
      "  3.03752433  1.70490673  0.59199939  2.05477221  2.07133465  1.60798222\n",
      "  2.12880537  2.65646137  1.32548732  2.25006843  1.50770668  2.74298971\n",
      "  2.28534673  1.7435624   2.13789121  1.80535923  2.32426471  1.98778573\n",
      "  2.65424358  3.33128874  2.1713632   2.43631508  2.1886985   1.74667031\n",
      "  2.24150806  2.48845302  2.42342064  2.07832588  1.92273911  2.91507358\n",
      "  2.46455565  2.69126874  1.67386932  2.71142667  1.27057781  2.23882447\n",
      "  2.0147004   2.08090639  1.7945382   2.46541782  2.26913432  2.0975964\n",
      "  3.03281286  2.52102621  2.09165921  1.99425575  1.00644793  1.67958385\n",
      "  1.75930272  1.59454409  1.94556323  2.91039033  2.25703497  1.88266627\n",
      "  1.45721068  2.47587298  1.88480389  2.93499391  2.07886249  2.71681826\n",
      "  2.23631971  2.03782946  2.06307243  2.31279097  1.98653868  1.216276\n",
      "  1.05757491  1.64124389  1.59103181  2.10468554  1.93468954  2.2464926\n",
      "  1.88861696  2.28093623  2.16902967  2.55193645  1.54985022  1.04949313\n",
      "  1.68957283  2.36424673  1.67077989  1.76048272  1.35543765  1.5129002\n",
      "  1.90294873  1.12663208  1.92451147  2.0089616   1.90083975  2.06232308\n",
      "  1.66812454  2.64078692  2.39611974  1.60444902  1.9616975   1.66788134\n",
      "  2.63591031  1.94022351  1.39951069  2.42309255  2.30561489  1.89819846\n",
      "  1.73791309  1.79071299  1.96904189  1.47057585  2.90262279  1.96298839\n",
      "  3.10244285  1.77395536  1.89528202  1.85265782  2.45324608  2.49962725\n",
      "  2.15769215  2.56889973  2.57904818  2.49988026  1.79177569  1.4281118\n",
      "  1.18677659  1.27060529  1.84208732  1.35553209  1.94582001  2.74661666\n",
      "  1.92195321  1.0541773   2.42018308  1.88740058  1.75028988  1.86449105\n",
      "  1.33731706  2.00927407  2.37727746  1.48759866  2.28496677  2.3046052\n",
      "  1.71584241  2.50459802  1.42064117  2.21986634  1.92822878  1.95875972\n",
      "  2.19428901  2.10689236  1.01874074  1.35156894  1.45970175  1.88197632\n",
      "  2.39002315  2.52940851  2.33587047  2.08756975  1.51486837  2.59067592\n",
      "  2.05296819  1.38099124  1.69002705  2.60903005  2.71695072  1.53204525\n",
      "  3.054019    2.45585418  2.28408354  1.41526616  3.07598525  1.97338755\n",
      "  1.62411405  1.78311366  1.94756161  1.50478806  2.30698902  1.94139326\n",
      "  1.13383929  1.56309914  1.43265234  1.59610184  1.72517619  2.09372822\n",
      "  1.85267096  1.90653935  1.62537638  2.3434242   1.8614648   2.99500276\n",
      "  1.55318002  1.97949375  2.65013453  1.42695209  1.52452551  1.44217042\n",
      "  1.93506645  1.85345553  2.10676456  2.5590154   1.42176817  1.80726955\n",
      "  2.19966369  0.74426545  1.73669598  1.77210905  1.69744801  2.14196546\n",
      "  2.54856041  1.73071132  3.09779837  1.64867811  1.96970022  2.10861411\n",
      "  1.23748285  2.22894599  2.01052161  2.07818576  2.51882709  2.02283295\n",
      "  2.55366807  1.33110547  1.87316664  2.62743992  1.95972742  1.38957887\n",
      "  1.42203696  1.62133007  1.3438043   2.24767425  0.59246935  1.58931085\n",
      "  1.30467471  1.31337866  1.71522415  1.38253331  2.23879883  1.60526043\n",
      "  1.72388236  2.41881846  2.13635891  2.06312774  1.98707079  1.43782889\n",
      "  2.15078639  3.05929572  1.86851693  1.49830603  1.24110189  1.03900255\n",
      "  1.82832738  1.72981783  2.52258475  1.96003238  2.33069748  2.31169421\n",
      "  2.59930092  1.84560959  2.48508399  2.22552311  1.46864664  1.48742898\n",
      "  2.20980701  1.84233386  0.89462279  2.12839492  2.13026468  2.09908996\n",
      "  2.76292602  1.80086387  1.2318024   2.31707453  2.0774514   2.30033839\n",
      "  2.32364274  2.0747822   1.72432872  1.96724879  1.92094164  1.77184241\n",
      "  2.07843606  1.94010262  2.02437136  1.45491071  1.85718218  1.42673406\n",
      "  1.47075076  2.68839917  1.49157537  2.24279989  1.1579613   1.94821825\n",
      "  2.52144586  2.39242787  1.62925538  2.39687062  1.81379213  1.51633696\n",
      "  1.39616538  0.9960124   2.2347481   2.38782711  2.83553325  1.82438001\n",
      "  1.83615015  1.72055905  2.15613499  2.07835779  1.24748663  2.23857282\n",
      "  2.28550368  2.12703473  1.87938059  1.0415567   2.05059754  1.94659862\n",
      "  1.76700806  2.03388363  1.88776662  2.03586915  1.94161922  1.76507067\n",
      "  1.44539575  1.3807703   2.17069383  1.98151623  2.20347985  2.21826748\n",
      "  1.93554786  2.95782629  1.74886178  2.0338468   1.746235    1.82047809\n",
      "  1.48310197  2.3400226   1.73499872  2.3277985   2.53206432  1.98936754\n",
      "  1.73429002  2.15488111  2.28269312  2.32472302  1.33620542  2.75250996\n",
      "  1.56059425  1.30989216  2.30765997  1.82772561  2.05471663  2.10763897\n",
      "  2.86019344  2.07471113  2.23484599  1.83033894  1.64754455  2.43101292\n",
      "  2.29392484  2.78767104  1.61455649  2.18564042  2.38573487  1.16568367\n",
      "  1.3629158   2.24608387  2.11591112  1.68065376  2.45546619  1.55226238\n",
      "  1.27971385  2.04249144  2.06608407  2.47314933  2.11211372  2.41675734\n",
      "  1.51550537  2.43208527  1.47780843  2.51391946  1.90158614  1.99591611\n",
      "  1.79294025  1.93559313  1.84046016  1.26929318  1.58579465  1.68734923\n",
      "  2.13339301  2.26300735  1.8459538   2.19201889  2.22534584  1.84528219\n",
      "  0.78289566  2.01744023  2.72700917  1.72987179  2.37007602  1.64585503\n",
      "  1.67113596  3.05554927  1.96351653  1.52880344  2.57250433  2.15543819\n",
      "  2.1960669   1.05270306  1.82924418  2.03488686  1.91982147  1.49283041\n",
      "  1.83408613  2.7203487   1.80489107  2.32122531]\n"
     ]
    }
   ],
   "source": [
    "rng = np.random.RandomState(10)  # deterministic random data\n",
    "print(rng)\n",
    "mu, sigma = 2, 0.5\n",
    "v = rng.normal(mu,sigma,1000)\n",
    "print(v)"
   ]
  },
  {
   "cell_type": "code",
   "execution_count": 19,
   "metadata": {},
   "outputs": [
    {
     "name": "stdout",
     "output_type": "stream",
     "text": [
      "1.99272168219\n"
     ]
    }
   ],
   "source": [
    "print (np.mean(v))"
   ]
  },
  {
   "cell_type": "code",
   "execution_count": 20,
   "metadata": {},
   "outputs": [
    {
     "name": "stdout",
     "output_type": "stream",
     "text": [
      "0.468978878598\n"
     ]
    }
   ],
   "source": [
    "print (np.std(v))"
   ]
  },
  {
   "cell_type": "code",
   "execution_count": 21,
   "metadata": {},
   "outputs": [
    {
     "name": "stdout",
     "output_type": "stream",
     "text": [
      "[ 0.01359547  0.02719095  0.17674115  0.41466193  0.68997025  0.88370574\n",
      "  0.64918383  0.38407211  0.09516831  0.0645785 ]\n"
     ]
    }
   ],
   "source": [
    "hist, bin_edges = np.histogram(v, bins=10, density=True)#density true means normalizeed , if we sum that value * diff for all we get  1.\n",
    "print (hist)"
   ]
  },
  {
   "cell_type": "code",
   "execution_count": 22,
   "metadata": {},
   "outputs": [
    {
     "name": "stdout",
     "output_type": "stream",
     "text": [
      "[ 0.39779933  0.69201491  0.98623049  1.28044608  1.57466166  1.86887724\n",
      "  2.16309282  2.45730841  2.75152399  3.04573957  3.33995515]\n"
     ]
    }
   ],
   "source": [
    "print (bin_edges)"
   ]
  },
  {
   "cell_type": "code",
   "execution_count": 23,
   "metadata": {},
   "outputs": [
    {
     "data": {
      "image/png": "[encoded data removed]",
      "text/plain": [
       "<matplotlib.figure.Figure at 0x10b13cc50>"
      ]
     },
     "metadata": {},
     "output_type": "display_data"
    }
   ],
   "source": [
    "plt.hist(v, bins=bin_edges)\n",
    "plt.show()"
   ]
  },
  {
   "cell_type": "code",
   "execution_count": 24,
   "metadata": {},
   "outputs": [
    {
     "name": "stdout",
     "output_type": "stream",
     "text": [
      "0.0135954729673 2.16309282353 0.692014910451\n",
      "3.39886824182\n"
     ]
    }
   ],
   "source": [
    "# hist[i] number of samples in bins[i]\n",
    "# number of samples in bin 0 is  defined by bin_edges[0]<= values of v < bins_edges[1]\n",
    "print (hist[0], bin_edges[6], bin_edges[1]) \n",
    "print (hist.sum())"
   ]
  },
  {
   "cell_type": "code",
   "execution_count": 25,
   "metadata": {},
   "outputs": [
    {
     "data": {
      "text/plain": [
       "1.0"
      ]
     },
     "execution_count": 25,
     "metadata": {},
     "output_type": "execute_result"
    }
   ],
   "source": [
    "np.sum(hist * np.diff(bin_edges))"
   ]
  },
  {
   "cell_type": "code",
   "execution_count": 26,
   "metadata": {},
   "outputs": [
    {
     "name": "stdout",
     "output_type": "stream",
     "text": [
      "[ 0.01359547  0.02719095  0.17674115  0.41466193  0.68997025  0.88370574\n",
      "  0.64918383  0.38407211  0.09516831  0.0645785 ]\n"
     ]
    }
   ],
   "source": [
    "histT, bin_edges = np.histogram(v, bins=10, density=True) \n",
    "# here hist[i] is the pdf value at bin i and is normalized such that integral over the range is 1\n",
    "print (histT)"
   ]
  },
  {
   "cell_type": "code",
   "execution_count": 27,
   "metadata": {},
   "outputs": [
    {
     "name": "stdout",
     "output_type": "stream",
     "text": [
      "3.39886824182\n"
     ]
    }
   ],
   "source": [
    "print (histT.sum())"
   ]
  },
  {
   "cell_type": "code",
   "execution_count": 28,
   "metadata": {},
   "outputs": [
    {
     "name": "stdout",
     "output_type": "stream",
     "text": [
      "[ 0.29421558  0.29421558  0.29421558  0.29421558  0.29421558  0.29421558\n",
      "  0.29421558  0.29421558  0.29421558  0.29421558]\n"
     ]
    },
    {
     "data": {
      "text/plain": [
       "1.0"
      ]
     },
     "execution_count": 28,
     "metadata": {},
     "output_type": "execute_result"
    }
   ],
   "source": [
    "print (np.diff(bin_edges))\n",
    "np.sum(histT * np.diff(bin_edges))"
   ]
  },
  {
   "cell_type": "code",
   "execution_count": 29,
   "metadata": {},
   "outputs": [
    {
     "data": {
      "text/plain": [
       "(array([ 0.01359547,  0.02719095,  0.17674115,  0.41466193,  0.68997025,\n",
       "         0.88370574,  0.64918383,  0.38407211,  0.09516831,  0.0645785 ]),\n",
       " array([ 0.39779933,  0.69201491,  0.98623049,  1.28044608,  1.57466166,\n",
       "         1.86887724,  2.16309282,  2.45730841,  2.75152399,  3.04573957,\n",
       "         3.33995515]),\n",
       " <a list of 10 Patch objects>)"
      ]
     },
     "execution_count": 29,
     "metadata": {},
     "output_type": "execute_result"
    }
   ],
   "source": [
    "import matplotlib.mlab as mlab   # for plotting pdf\n",
    "plt.hist(v, normed=True, bins=bin_edges)"
   ]
  },
  {
   "cell_type": "code",
   "execution_count": 30,
   "metadata": {},
   "outputs": [
    {
     "name": "stdout",
     "output_type": "stream",
     "text": [
      "0.250691536527 3.4870629453\n"
     ]
    }
   ],
   "source": [
    "xmin, xmax = plt.xlim()\n",
    "print(xmin,xmax)"
   ]
  },
  {
   "cell_type": "code",
   "execution_count": 31,
   "metadata": {
    "collapsed": true
   },
   "outputs": [],
   "source": [
    "mlab.normpdf?"
   ]
  },
  {
   "cell_type": "code",
   "execution_count": 32,
   "metadata": {
    "scrolled": true
   },
   "outputs": [
    {
     "data": {
      "image/png": "[encoded data removed]",
      "text/plain": [
       "<matplotlib.figure.Figure at 0x103facc18>"
      ]
     },
     "metadata": {},
     "output_type": "display_data"
    }
   ],
   "source": [
    "x = np.linspace(xmin, xmax, 100)\n",
    "p = mlab.normpdf(x, mu, sigma)\n",
    "plt.plot(x, p, 'r', linewidth=2)\n",
    "plt.show()"
   ]
  },
  {
   "cell_type": "code",
   "execution_count": 99,
   "metadata": {},
   "outputs": [
    {
     "data": {
      "image/png": "[encoded data removed]",
      "text/plain": [
       "<matplotlib.figure.Figure at 0x10b5701d0>"
      ]
     },
     "metadata": {},
     "output_type": "display_data"
    }
   ],
   "source": [
    "plt.hist(v, normed=True, bins=bin_edges)\n",
    "xmin, xmax = plt.xlim()\n",
    "x = np.linspace(xmin, xmax, 100)\n",
    "p = mlab.normpdf(x, np.mean(v), np.std(v))\n",
    "plt.plot(x, p, 'r', linewidth=2)\n",
    "plt.show()"
   ]
  },
  {
   "cell_type": "code",
   "execution_count": 33,
   "metadata": {},
   "outputs": [
    {
     "name": "stdout",
     "output_type": "stream",
     "text": [
      "1.0\n"
     ]
    }
   ],
   "source": [
    "histTP = histT * np.diff(bin_edges)\n",
    "print (histTP.sum()) #total area for the histogram plot\n",
    "#print (np.diff(bin_edges))\n",
    "#print (histTP)\n",
    "#print (hist/1000)"
   ]
  },
  {
   "cell_type": "markdown",
   "metadata": {},
   "source": [
    "Exercise 2: This exercise is based on a real data of  sale of individual residential property in Ames, Iowa. To complete this exercise, please read the property sale data from a csv file <a href = \"resources/train_house.csv\"> property sale data</a>  into a 2d numpy array. For this you need to download the csv file and save it on your local folder. You can then use the following command to read the csv file into a 2d array:\n",
    "\n",
    "house_data = np.genfromtxt('resources/train_house.csv', skip_header=1,delimiter=',')\n",
    "\n",
    "Also, open the file in excel or notepad to see the header information. For this exercise there are three columns of our interest: 1stFlrSF (first floor sq ft), 2ndFlrSF (second floor sq ft), and  SalePrice.  Extract these columns from 2d numpy array house_data using numpy indexing. You need to compute the price per sqft (sale price/total sq ft) for each house. Compute the historgram and plot the price per sqft data using various number of bins=10,20,30,40, and 50. Based on the computed mean and standard deviation of the data, plot the normal pdf to show the fit along with  each plot (as shown above).  \n"
   ]
  },
  {
   "cell_type": "code",
   "execution_count": 34,
   "metadata": {
    "collapsed": true
   },
   "outputs": [],
   "source": [
    "house_data = np.genfromtxt('resoucefolder/train_house.csv', skip_header=1,delimiter=',')"
   ]
  },
  {
   "cell_type": "code",
   "execution_count": 35,
   "metadata": {},
   "outputs": [
    {
     "data": {
      "text/plain": [
       "(1460, 81)"
      ]
     },
     "execution_count": 35,
     "metadata": {},
     "output_type": "execute_result"
    }
   ],
   "source": [
    "np.shape(house_data)"
   ]
  },
  {
   "cell_type": "code",
   "execution_count": 36,
   "metadata": {},
   "outputs": [
    {
     "name": "stdout",
     "output_type": "stream",
     "text": [
      "[  856.  1262.   920. ...,  1188.  1078.  1256.]\n",
      "[  854.     0.   866. ...,  1152.     0.     0.]\n",
      "[ 208500.  181500.  223500. ...,  266500.  142125.  147500.]\n",
      "[ 121.92982456  143.81933439  125.1399776  ...,  113.88888889  131.84137291\n",
      "  117.43630573]\n"
     ]
    },
    {
     "data": {
      "image/png": "[encoded data removed]",
      "text/plain": [
       "<matplotlib.figure.Figure at 0x10b84d518>"
      ]
     },
     "metadata": {},
     "output_type": "display_data"
    }
   ],
   "source": [
    "house_data = np.genfromtxt('resoucefolder/train_house.csv', skip_header=1,delimiter=',')\n",
    "np.shape(house_data)\n",
    "ffsq=house_data[:,43]\n",
    "sesq=house_data[:,44]\n",
    "saleprice=house_data[:,80]\n",
    "print(ffsq)\n",
    "print(sesq)\n",
    "print(saleprice)\n",
    "ppsq=(saleprice/(ffsq+sesq))\n",
    "print(ppsq)\n",
    "hisT, bin_edges= np.histogram(ppsq,bins=50,density=True)\n",
    "plt.hist(ppsq,normed=True,bins=bin_edges)\n",
    "xmin,xmax=plt.xlim()\n",
    "x=np.linspace(xmin,xmax,100)\n",
    "p = mlab.normpdf(x, np.mean(ppsq), np.std(ppsq))\n",
    "plt.plot(x, p, 'r', linewidth=2)\n",
    "plt.show()"
   ]
  },
  {
   "cell_type": "markdown",
   "metadata": {},
   "source": [
    "### Health Data\n",
    "http://www.healthdata.org/results/data-visualizations \n",
    "\n",
    "https://vizhub.healthdata.org/subnational/usa\n",
    "\n",
    "http://ghdx.healthdata.org/record/united-states-diabetes-prevalence-county-1999-2012\n",
    "\n",
    "Download the zip file, and open the excel file. Go to the control sheet, and delete first row and the third row. Next save the sheet as CSV file 'US_County_Diabetes_Control_Rate_1999_2012_full.csv'. "
   ]
  },
  {
   "cell_type": "code",
   "execution_count": 37,
   "metadata": {
    "collapsed": true,
    "scrolled": false
   },
   "outputs": [],
   "source": [
    "ctrl_rate_data = np.genfromtxt('US_County_Diabetes_Control_Rate_1999_2012_full.csv', skip_header=1, delimiter=',')"
   ]
  },
  {
   "cell_type": "markdown",
   "metadata": {},
   "source": [
    "Exercise 3: For this exercise there are two columns of our interest: \"Prevalence, 1999, Both Sexes\", and \"Prevalence, 2012, Both Sexes\". xtract these columns from 2d numpy array house_data using numpy indexing. Plot historgrams for 1999 and 2012 data using 40 bins. Based on the computed mean and standard deviation of the data, plot the normal pdf to show the fit along with  each historgram plot. Comment on the differences between the two historgrams and the corresponding fits with the normal distribution.  "
   ]
  },
  {
   "cell_type": "code",
   "execution_count": 38,
   "metadata": {},
   "outputs": [
    {
     "data": {
      "image/png": "[encoded data removed]",
      "text/plain": [
       "<matplotlib.figure.Figure at 0x10b3acb38>"
      ]
     },
     "metadata": {},
     "output_type": "display_data"
    },
    {
     "data": {
      "image/png": "[encoded data removed]",
      "text/plain": [
       "<matplotlib.figure.Figure at 0x10b3e19e8>"
      ]
     },
     "metadata": {},
     "output_type": "display_data"
    }
   ],
   "source": [
    "ctrl_rate_data = np.genfromtxt('US_County_Diabetes_Control_Rate_1999_2012_full.csv', skip_header=1, delimiter=',')\n",
    "np.shape(ctrl_rate_data)\n",
    "data1999=ctrl_rate_data[:,2]\n",
    "data2012=ctrl_rate_data[:,41]\n",
    "\n",
    "hisT, bin_edges= np.histogram(data1999,bins=40,density=True)\n",
    "plt.hist(data1999,normed=True,bins=bin_edges)\n",
    "xmin,xmax=plt.xlim()\n",
    "x=np.linspace(xmin,xmax,100)\n",
    "p = mlab.normpdf(x, np.mean(data1999), np.std(data1999))\n",
    "plt.plot(x, p, 'r', linewidth=2)\n",
    "plt.show()\n",
    "\n",
    "hisT, bin_edges= np.histogram(data2012,bins=40,density=True)\n",
    "plt.hist(data2012,normed=True,bins=bin_edges)\n",
    "xmin,xmax=plt.xlim()\n",
    "x=np.linspace(xmin,xmax,100)\n",
    "p = mlab.normpdf(x, np.mean(data2012), np.std(data2012))\n",
    "plt.plot(x, p, 'r', linewidth=2)\n",
    "plt.show()"
   ]
  },
  {
   "cell_type": "code",
   "execution_count": 39,
   "metadata": {},
   "outputs": [
    {
     "data": {
      "text/plain": [
       "25.924585029752581"
      ]
     },
     "execution_count": 39,
     "metadata": {},
     "output_type": "execute_result"
    }
   ],
   "source": [
    "np.mean(data1999)"
   ]
  },
  {
   "cell_type": "code",
   "execution_count": 40,
   "metadata": {},
   "outputs": [
    {
     "data": {
      "text/plain": [
       "1.4448952092544318"
      ]
     },
     "execution_count": 40,
     "metadata": {},
     "output_type": "execute_result"
    }
   ],
   "source": [
    "np.std(data1999)"
   ]
  },
  {
   "cell_type": "code",
   "execution_count": 41,
   "metadata": {},
   "outputs": [
    {
     "data": {
      "text/plain": [
       "26.742787347322263"
      ]
     },
     "execution_count": 41,
     "metadata": {},
     "output_type": "execute_result"
    }
   ],
   "source": [
    "np.mean(data2012)"
   ]
  },
  {
   "cell_type": "code",
   "execution_count": 42,
   "metadata": {},
   "outputs": [
    {
     "data": {
      "text/plain": [
       "1.3051951402337627"
      ]
     },
     "execution_count": 42,
     "metadata": {},
     "output_type": "execute_result"
    }
   ],
   "source": [
    "np.std(data2012)"
   ]
  },
  {
   "cell_type": "markdown",
   "metadata": {},
   "source": [
    "### Working with Sparse Matrices\n",
    "http://www.scipy-lectures.org/advanced/scipy_sparse/storage_schemes.html\n",
    "\n",
    "A matrix that has number of entries as zeroes is referred to as sparse and there are several storage schemes that take advantage of the sparsenenss and only store non-zeroes entries. \n",
    "\n",
    "Example sparse matrix: Netflix Rank Matrix of size 500K Users X  20K Movies (A row in this matrix is sparsely populated)\n",
    "\n",
    "For computational efficiency it becomes necessary to work with sparse storage structure of large sparse matrices. \n",
    "\n",
    "### Example Sparse Matrix Storage Formats\n",
    "\n",
    "####  Coordinate Format (COO)\n",
    "-  also known as the ‘ijv’ or ‘triplet’ format\n",
    "-  three NumPy arrays: row, col, data\n",
    "-  data[i] is value at (row[i], col[i]) position\n"
   ]
  },
  {
   "cell_type": "code",
   "execution_count": 43,
   "metadata": {
    "collapsed": true
   },
   "outputs": [],
   "source": [
    "import numpy as np\n",
    "import scipy.sparse as sps"
   ]
  },
  {
   "cell_type": "code",
   "execution_count": 44,
   "metadata": {},
   "outputs": [
    {
     "data": {
      "text/plain": [
       "array([0, 3, 1, 0])"
      ]
     },
     "execution_count": 44,
     "metadata": {},
     "output_type": "execute_result"
    }
   ],
   "source": [
    "#create using (data, ij) tuple:\n",
    "row = np.array([0, 3, 1, 0])\n",
    "col = np.array([0, 3, 1, 2])\n",
    "data = np.array([4, 5, 7, 9])\n",
    "row"
   ]
  },
  {
   "cell_type": "code",
   "execution_count": 45,
   "metadata": {},
   "outputs": [
    {
     "data": {
      "text/plain": [
       "matrix([[4, 0, 9, 0],\n",
       "        [0, 7, 0, 0],\n",
       "        [0, 0, 0, 0],\n",
       "        [0, 0, 0, 5]])"
      ]
     },
     "execution_count": 45,
     "metadata": {},
     "output_type": "execute_result"
    }
   ],
   "source": [
    "mtx = sps.coo_matrix((data, (row, col)), shape=(4, 4))\n",
    "mtx     \n",
    "mtx.todense()"
   ]
  },
  {
   "cell_type": "code",
   "execution_count": 46,
   "metadata": {},
   "outputs": [
    {
     "data": {
      "text/plain": [
       "matrix([[3, 0, 1, 0],\n",
       "        [0, 2, 0, 0],\n",
       "        [0, 0, 0, 0],\n",
       "        [0, 0, 0, 1]])"
      ]
     },
     "execution_count": 46,
     "metadata": {},
     "output_type": "execute_result"
    }
   ],
   "source": [
    "#duplicates entries are summed together:\n",
    "row = np.array([0, 0, 1, 3, 1, 0, 0])\n",
    "col = np.array([0, 2, 1, 3, 1, 0, 0])\n",
    "data = np.array([1, 1, 1, 1, 1, 1, 1])\n",
    "mtx = sps.coo_matrix((data, (row, col)), shape=(4, 4))\n",
    "mtx.todense()"
   ]
  },
  {
   "cell_type": "markdown",
   "metadata": {},
   "source": [
    "#### Compressed Sparse Row Format (CSR)\n",
    "- three NumPy arrays: indices, indptr, data\n",
    "- indices is array of column indices\n",
    "- data is array of corresponding nonzero values\n",
    "- indptr points to row starts in indices and data\n"
   ]
  },
  {
   "cell_type": "code",
   "execution_count": 133,
   "metadata": {},
   "outputs": [
    {
     "data": {
      "text/plain": [
       "matrix([[1, 0, 2],\n",
       "        [0, 0, 3],\n",
       "        [4, 5, 6]])"
      ]
     },
     "execution_count": 133,
     "metadata": {},
     "output_type": "execute_result"
    }
   ],
   "source": [
    "data = np.array([1, 2, 3, 4, 5, 6])\n",
    "indices = np.array([0, 2, 2, 0, 1, 2])\n",
    "indptr = np.array([0, 2, 3, 6])\n",
    "mtx = sps.csr_matrix((data, indices, indptr), shape=(3,3))\n",
    "mtx.todense()"
   ]
  },
  {
   "cell_type": "code",
   "execution_count": 47,
   "metadata": {
    "collapsed": true
   },
   "outputs": [],
   "source": [
    "from scipy.sparse import lil_matrix\n",
    "from scipy.sparse.linalg import spsolve\n",
    "from numpy.linalg import solve, norm\n",
    "from numpy.random import rand\n",
    "import matplotlib.pylab as plt"
   ]
  },
  {
   "cell_type": "code",
   "execution_count": 136,
   "metadata": {
    "collapsed": true
   },
   "outputs": [],
   "source": [
    "lil_matrix? #Row-based linked list sparse matrix"
   ]
  },
  {
   "cell_type": "code",
   "execution_count": 137,
   "metadata": {
    "collapsed": true
   },
   "outputs": [],
   "source": [
    "A.setdiag? #Set diagonal or off-diagonal elements of the array."
   ]
  },
  {
   "cell_type": "code",
   "execution_count": 49,
   "metadata": {
    "collapsed": true
   },
   "outputs": [],
   "source": [
    "A = lil_matrix((1000, 1000))\n",
    "A[0, :100] = rand(100)\n",
    "A[1, 100:200] = A[0, :100]\n",
    "A.setdiag(rand(1000))"
   ]
  },
  {
   "cell_type": "code",
   "execution_count": 50,
   "metadata": {},
   "outputs": [
    {
     "data": {
      "image/png": "[encoded data removed]",
      "text/plain": [
       "<matplotlib.figure.Figure at 0x10b603c18>"
      ]
     },
     "metadata": {},
     "output_type": "display_data"
    }
   ],
   "source": [
    "# Now convert it to CSR format\n",
    "A = A.tocsr()\n",
    "plt.spy(A)\n",
    "plt.show()"
   ]
  },
  {
   "cell_type": "code",
   "execution_count": 51,
   "metadata": {
    "collapsed": true
   },
   "outputs": [],
   "source": [
    "# Create RHS and solve A x = b for x:\n",
    "b = rand(1000)\n",
    "x = spsolve(A, b)"
   ]
  },
  {
   "cell_type": "code",
   "execution_count": 52,
   "metadata": {
    "collapsed": true
   },
   "outputs": [],
   "source": [
    "# Convert it to a dense matrix and solve, and check that the result is the same:\n",
    "x_ = solve(A.toarray(), b)"
   ]
  },
  {
   "cell_type": "code",
   "execution_count": 53,
   "metadata": {},
   "outputs": [
    {
     "data": {
      "text/plain": [
       "True"
      ]
     },
     "execution_count": 53,
     "metadata": {},
     "output_type": "execute_result"
    }
   ],
   "source": [
    "err = norm(x-x_)\n",
    "err < 1e-10"
   ]
  },
  {
   "cell_type": "markdown",
   "metadata": {},
   "source": [
    "Exercise 4: Create a sparse movie rank matrix for 200 users and 200 movies. For each user assign a random score of 1 to 5 for 3 to 5 randomly selected movies. Use spy() to visualize the randomly created matrix.\n",
    "HINT: Create three numpy arrays 'ijv' for coo format using numpy functions such as: np.random.choice(), np.random.randint(), np.full(). You may want to setup a loop over number of users for populating row and column index arrays. "
   ]
  },
  {
   "cell_type": "code",
   "execution_count": 54,
   "metadata": {
    "collapsed": true
   },
   "outputs": [],
   "source": [
    "np.full?"
   ]
  },
  {
   "cell_type": "code",
   "execution_count": 55,
   "metadata": {
    "collapsed": true
   },
   "outputs": [],
   "source": [
    "import numpy as np\n",
    "import scipy.sparse as sps"
   ]
  },
  {
   "cell_type": "code",
   "execution_count": 56,
   "metadata": {},
   "outputs": [
    {
     "name": "stdout",
     "output_type": "stream",
     "text": [
      "4\n",
      "3\n",
      "3\n",
      "5\n",
      "5\n",
      "4\n",
      "5\n",
      "3\n",
      "4\n",
      "5\n",
      "3\n",
      "4\n",
      "4\n",
      "5\n",
      "3\n",
      "4\n",
      "3\n",
      "3\n",
      "5\n",
      "4\n",
      "5\n",
      "5\n",
      "4\n",
      "4\n",
      "3\n",
      "5\n",
      "4\n",
      "4\n",
      "5\n",
      "5\n",
      "3\n",
      "5\n",
      "5\n",
      "5\n",
      "3\n",
      "5\n",
      "5\n",
      "5\n",
      "3\n",
      "3\n",
      "3\n",
      "4\n",
      "5\n",
      "5\n",
      "5\n",
      "3\n",
      "5\n",
      "5\n",
      "4\n",
      "4\n",
      "5\n",
      "3\n",
      "3\n",
      "4\n",
      "5\n",
      "3\n",
      "5\n",
      "4\n",
      "3\n",
      "5\n",
      "5\n",
      "3\n",
      "4\n",
      "4\n",
      "4\n",
      "4\n",
      "5\n",
      "4\n",
      "4\n",
      "4\n",
      "3\n",
      "3\n",
      "5\n",
      "5\n",
      "3\n",
      "4\n",
      "4\n",
      "4\n",
      "5\n",
      "3\n",
      "4\n",
      "4\n",
      "4\n",
      "3\n",
      "5\n",
      "4\n",
      "5\n",
      "3\n",
      "3\n",
      "5\n",
      "4\n",
      "5\n",
      "4\n",
      "5\n",
      "4\n",
      "5\n",
      "5\n",
      "3\n",
      "4\n",
      "4\n",
      "4\n",
      "4\n",
      "5\n",
      "5\n",
      "4\n",
      "5\n",
      "4\n",
      "3\n",
      "4\n",
      "5\n",
      "3\n",
      "3\n",
      "5\n",
      "3\n",
      "3\n",
      "3\n",
      "3\n",
      "4\n",
      "4\n",
      "3\n",
      "4\n",
      "4\n",
      "5\n",
      "3\n",
      "3\n",
      "3\n",
      "3\n",
      "3\n",
      "5\n",
      "4\n",
      "4\n",
      "4\n",
      "4\n",
      "3\n",
      "3\n",
      "5\n",
      "3\n",
      "4\n",
      "3\n",
      "4\n",
      "5\n",
      "4\n",
      "3\n",
      "3\n",
      "5\n",
      "3\n",
      "5\n",
      "5\n",
      "4\n",
      "4\n",
      "5\n",
      "4\n",
      "4\n",
      "4\n",
      "4\n",
      "5\n",
      "3\n",
      "4\n",
      "4\n",
      "4\n",
      "4\n",
      "3\n",
      "3\n",
      "3\n",
      "3\n",
      "3\n",
      "3\n",
      "4\n",
      "3\n",
      "5\n",
      "3\n",
      "5\n",
      "3\n",
      "4\n",
      "5\n",
      "3\n",
      "5\n",
      "3\n",
      "4\n",
      "5\n",
      "3\n",
      "3\n",
      "5\n",
      "3\n",
      "4\n",
      "5\n",
      "3\n",
      "5\n",
      "5\n",
      "3\n",
      "4\n",
      "4\n",
      "5\n",
      "5\n",
      "4\n",
      "4\n",
      "5\n",
      "5\n",
      "4\n",
      "4\n"
     ]
    },
    {
     "data": {
      "text/plain": [
       "matrix([[0, 0, 0, ..., 0, 0, 0],\n",
       "        [0, 0, 0, ..., 0, 0, 0],\n",
       "        [0, 4, 0, ..., 0, 0, 0],\n",
       "        ..., \n",
       "        [0, 0, 0, ..., 0, 0, 0],\n",
       "        [0, 0, 0, ..., 0, 0, 0],\n",
       "        [0, 0, 0, ..., 0, 0, 0]])"
      ]
     },
     "execution_count": 56,
     "metadata": {},
     "output_type": "execute_result"
    }
   ],
   "source": [
    "num_movies=200\n",
    "num_users=200\n",
    "max_score_plus_1=6\n",
    "LL=3\n",
    "UL=6\n",
    "col=np.empty(0,int)\n",
    "row=np.empty(0,int)\n",
    "for row_ind in range(num_users):\n",
    "    smovies=np.random.randint(LL,UL)\n",
    "    print(smovies)\n",
    "    tcol=np.random.choice(num_movies,smovies,replace=False)\n",
    "    col=np.append(col,tcol)\n",
    "    trow=np.full(smovies,row_ind)\n",
    "    row=np.append(row,trow)\n",
    "nnz=len(col)\n",
    "score=np.random.randint(max_score_plus_1,size=nnz)\n",
    "mtx=sps.coo_matrix((score,(row,col)),shape=(num_users,num_movies))\n",
    "mtx.todense()"
   ]
  },
  {
   "cell_type": "code",
   "execution_count": 150,
   "metadata": {
    "collapsed": true
   },
   "outputs": [],
   "source": [
    "np.random.randint?"
   ]
  },
  {
   "cell_type": "code",
   "execution_count": 57,
   "metadata": {},
   "outputs": [
    {
     "data": {
      "image/png": "[encoded data removed]",
      "text/plain": [
       "<matplotlib.figure.Figure at 0x10b4fdb00>"
      ]
     },
     "metadata": {},
     "output_type": "display_data"
    }
   ],
   "source": [
    "plt.spy(mtx,markersize=0.5)\n",
    "plt.show()"
   ]
  },
  {
   "cell_type": "code",
   "execution_count": null,
   "metadata": {
    "collapsed": true
   },
   "outputs": [],
   "source": []
  }
 ],
 "metadata": {
  "kernelspec": {
   "display_name": "Python 2",
   "language": "python",
   "name": "python2"
  },
  "language_info": {
   "codemirror_mode": {
    "name": "ipython",
    "version": 2
   },
   "file_extension": ".py",
   "mimetype": "text/x-python",
   "name": "python",
   "nbconvert_exporter": "python",
   "pygments_lexer": "ipython2",
   "version": "2.7.15"
  }
 },
 "nbformat": 4,
 "nbformat_minor": 2
}
